{
 "cells": [
  {
   "cell_type": "code",
   "execution_count": 2,
   "id": "28df7f94",
   "metadata": {},
   "outputs": [],
   "source": [
    "import numpy as np\n",
    "import os \n",
    "import math \n",
    "import matplotlib.pyplot as plt \n",
    "import rasterio as rio\n",
    "from rasterio.plot import show "
   ]
  },
  {
   "cell_type": "markdown",
   "id": "4e6fdae8",
   "metadata": {},
   "source": [
    "# Save Image As Plots "
   ]
  },
  {
   "cell_type": "code",
   "execution_count": 8,
   "id": "75ebb54e",
   "metadata": {},
   "outputs": [
    {
     "name": "stdout",
     "output_type": "stream",
     "text": [
      "CPU times: total: 17 s\n",
      "Wall time: 24.5 s\n"
     ]
    }
   ],
   "source": [
    "%%time\n",
    "def calculate_ndvi(red_band, nir_band):\n",
    "    \"\"\"Calculate NDVI.\"\"\"\n",
    "    return (nir_band - red_band) / (nir_band + red_band)\n",
    "\n",
    "def plot_ndvi(ndvi, output_path):\n",
    "    \"\"\"Plot NDVI and save the plot.\"\"\"\n",
    "    plt.figure(figsize=(8, 8))\n",
    "    plt.imshow(ndvi, cmap='gist_earth', vmin=1, vmax=-1)  # Adjust colormap as needed\n",
    "    plt.colorbar(label='NDVI')\n",
    "    plt.title('NDVI Plot')\n",
    "    plt.xlabel('Column')\n",
    "    plt.ylabel('Row')\n",
    "    plt.savefig(output_path)\n",
    "    plt.close()\n",
    "\n",
    "def process_sentinel_images(input_folder, output_folder):\n",
    "    \"\"\"Process Sentinel images in the input folder.\"\"\"\n",
    "    # Create output folder if it does not exist\n",
    "    if not os.path.exists(output_folder):\n",
    "        os.makedirs(output_folder)\n",
    "\n",
    "    # Iterate over all image files in the input folder\n",
    "    for file_name in os.listdir(input_folder):\n",
    "        if file_name.endswith('.img'):\n",
    "            # Construct full path to the image file\n",
    "            img_path = os.path.join(input_folder, file_name)\n",
    "\n",
    "            # Read all bands\n",
    "            with rio.open(img_path) as src:\n",
    "                red_band = src.read(1).astype(np.float32)\n",
    "#                 blue_band = src.read(2).astype(np.float32)\n",
    "#                 green_band = src.read(3).astype(np.float32)\n",
    "                nir_band = src.read(4).astype(np.float32)\n",
    "\n",
    "            # Calculate NDVI\n",
    "            ndvi = calculate_ndvi(red_band, nir_band)\n",
    "\n",
    "            # Plot and save NDVI\n",
    "            output_path = os.path.join(output_folder, f'ndvi_{os.path.splitext(file_name)[0]}.png')\n",
    "            plot_ndvi(ndvi, output_path)\n",
    "\n",
    "# Define input and output folders\n",
    "input_folder = 'F:\\\\Project\\\\layerstack\\\\Image_Iter\\\\Input_Raster'  # Update with your input folder path\n",
    "output_folder = 'F:\\\\Project\\\\layerstack\\\\Image_Iter\\\\Output_NDVI'  # Update with your output folder path\n",
    "\n",
    "# Process Sentinel images\n",
    "process_sentinel_images(input_folder, output_folder)\n"
   ]
  },
  {
   "cell_type": "code",
   "execution_count": null,
   "id": "a4a2587f",
   "metadata": {},
   "outputs": [],
   "source": []
  },
  {
   "cell_type": "markdown",
   "id": "83e6e708",
   "metadata": {},
   "source": [
    "# Save Output As .tif"
   ]
  },
  {
   "cell_type": "code",
   "execution_count": 14,
   "id": "f37ad747",
   "metadata": {},
   "outputs": [],
   "source": [
    "def calculate_ndvi(red_band, nir_band):\n",
    "    \"\"\"Calculate NDVI.\"\"\"\n",
    "    return (nir_band - red_band) / (nir_band + red_band)\n",
    "\n",
    "def plot_ndvi(ndvi, output_path, crs, transform):\n",
    "    \"\"\"Plot NDVI and save the plot.\"\"\"\n",
    "    with rio.open(output_path, 'w', driver='GTiff', \n",
    "                  height=ndvi.shape[0], width=ndvi.shape[1],\n",
    "                  count=1, dtype=np.float32, crs=crs, transform=transform) as dst:\n",
    "        dst.write(ndvi, 1)\n",
    "\n",
    "def process_sentinel_images(input_folder, output_folder):\n",
    "    \"\"\"Process Sentinel images in the input folder.\"\"\"\n",
    "    # Create output folder if it does not exist\n",
    "    if not os.path.exists(output_folder):\n",
    "        os.makedirs(output_folder)\n",
    "\n",
    "    # Iterate over all image files in the input folder\n",
    "    for file_name in os.listdir(input_folder):\n",
    "        if file_name.endswith('.img'):\n",
    "            # Construct full path to the image file\n",
    "            img_path = os.path.join(input_folder, file_name)\n",
    "\n",
    "            # Read all bands\n",
    "            with rio.open(img_path) as src:\n",
    "                red_band = src.read(1).astype(np.float32)\n",
    "                nir_band = src.read(4).astype(np.float32)\n",
    "                crs = src.crs\n",
    "                transform = src.transform\n",
    "\n",
    "            # Calculate NDVI\n",
    "            ndvi = calculate_ndvi(red_band, nir_band)\n",
    "\n",
    "            # Plot and save NDVI\n",
    "            output_path = os.path.join(output_folder, f'ndvi_{os.path.splitext(file_name)[0]}.tif')\n",
    "            plot_ndvi(ndvi, output_path, crs, transform)\n",
    "\n",
    "# Process Sentinel images\n",
    "process_sentinel_images(input_folder, output_folder)\n"
   ]
  }
 ],
 "metadata": {
  "kernelspec": {
   "display_name": "Python 3 (ipykernel)",
   "language": "python",
   "name": "python3"
  },
  "language_info": {
   "codemirror_mode": {
    "name": "ipython",
    "version": 3
   },
   "file_extension": ".py",
   "mimetype": "text/x-python",
   "name": "python",
   "nbconvert_exporter": "python",
   "pygments_lexer": "ipython3",
   "version": "3.11.4"
  }
 },
 "nbformat": 4,
 "nbformat_minor": 5
}
